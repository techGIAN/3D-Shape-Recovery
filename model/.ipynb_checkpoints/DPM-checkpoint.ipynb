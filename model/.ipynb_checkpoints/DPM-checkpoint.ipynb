{
 "cells": [
  {
   "cell_type": "markdown",
   "id": "63fc628c",
   "metadata": {},
   "source": [
    "# DPM"
   ]
  },
  {
   "cell_type": "markdown",
   "id": "9168230d",
   "metadata": {},
   "source": [
    "From <a href='https://arxiv.org/pdf/2012.09365.pdf'>this paper</a>, the authors have trained the Depth Prediction Module (DPM) using several various datasets, such as data coming from high-quality LiDAR sensors, and data coming from low-quality web stereo. "
   ]
  },
  {
   "cell_type": "markdown",
   "id": "88671490",
   "metadata": {},
   "source": [
    "Xian et al.'s paper from 2020 was particularly helpful in the DPM (can be found <a href=\"https://openaccess.thecvf.com/content_CVPR_2020/papers/Xian_Structure-Guided_Ranking_Loss_for_Single_Image_Depth_Prediction_CVPR_2020_paper.pdf\">here</a> and Github <a href=\"https://github.com/KexianHust/Structure-Guided-Ranking-Loss/tree/master/models\">here</a>), as the authors of the work Yin et. al. have trained their DPM based on Xian's architecture."
   ]
  },
  {
   "cell_type": "markdown",
   "id": "bb8cba7c",
   "metadata": {},
   "source": [
    "## Architecture Overview\n",
    "\n",
    "As overview of this architecture, the ResNet50 has been used as the backbone framework for extracting significant features. Then this is followed up by a decoder layer. And synchronized stochastic gradient descent (SGD) with batch size 0 has been utilized in the training. Initially, the learning rate was set to 0.02 for each layer in the network. Then every 20 epochs, the learning rate decays by 0.1. All images are resized to size 448 x 448. And there is 0.5 probability that each image is flipped horizontally."
   ]
  },
  {
   "cell_type": "markdown",
   "id": "9420cb23",
   "metadata": {},
   "source": [
    "## Loss Functions\n",
    "\n",
    "The authors Yin et al. utilize three different loss functions to train the DPM as follows:\n",
    "<ol>\n",
    "    <li> Image-level noramlized regression loss (novel) </li>\n",
    "    <li> Pair-wise normal loss (novel) </li>\n",
    "    <li> Multi-scale gradient loss (<a href=\"https://arxiv.org/pdf/1804.00607.pdf\">Li and Snavely, 2018</a>) </li>\n",
    "</ol>\n",
    "\n",
    "### Image-level Normalized Regression Loss (ILNR)\n",
    "\n",
    "The datasets used have varied depth ranges and some have depth scales and shifts that are not known. Thus, the proposed ILNR will be beneficial to address the problem. Mathematically, this is equal to:\n",
    "\n",
    "$$\\mathcal{L}_{ILNR} = \\dfrac{1}{N} \\sum_i^N \\left| d_i - \\bar{d}_i^* \\right| + \\left| \\tanh \\left( \\frac{d_i}{100} \\right) - \\tanh \\left( \\frac{\\bar{d}_i^*}{100} \\right) \\right|$$\n",
    "\n",
    "where $\\bar{d}_i^* = (d_i^* - \\mu_{trim})/\\sigma_{trim}$, $d$ is the predicted depth, $d^*$ is the ground truth, $\\mu_{trim}$ is the mean of a trimmed depth map and $\\sigma_{trim}$ is the standard deviation of a trimmed depth map. This trimmed depth map has 10\\% of the pixels cut off.\n",
    "\n",
    "The authors have observed that other normalization methods do not fair well, compared to ILNR. They have also tried min-max normalization, z-score standardization, and median absolute deviation (MAD).\n",
    "\n",
    "### Pairwise Normal Loss (PWN)\n",
    "\n",
    "This loss has been proposed in order to improve the images' local geometric features. Xian et al.'s <a href=\"https://openaccess.thecvf.com/content_CVPR_2020/papers/Xian_Structure-Guided_Ranking_Loss_for_Single_Image_Depth_Prediction_CVPR_2020_paper.pdf\">paper</a> designed a structure-guided ranking loss designed to improve sharpness in edges. Now here, Yin et al. follows a similar sampling method (edge-guided sampling) but supervises on surface normal space. But to constraint both global and local geometric relations, planes are also considered aside from edges. \n",
    "\n",
    "For the surface normal to be reconstructed from the 3D point cloud, this is done through least squares fit. Prior to this, the ground truth depths and the predicted depths need to be aligned first via a scale and shift factor. To improve the quality of the global geometry, paired points are sampled randomly globally. If the sampled points are $\\{(A_i, B_i), i = 0,..,N \\}$ then the corresponding normals are $\\{(n_{A_i}, n_{B_i}), i=0,..,N \\}$ with the following defined PWN loss:\n",
    "\n",
    "$$\\mathcal{L}_{PWN} = \\dfrac{1}{N} \\sum_i^N \\left| n_{A_i} \\cdot n_{B_i} - n_{A_i}^* \\cdot n_{B_i}^* \\right|$$\n",
    "\n",
    "where $n^*$ represents ground truth normals.\n",
    "\n",
    "### Multi-scale Gradient Loss (MSG)\n",
    "\n",
    "Proposed by Li and Snavely in 2018, this loss enables smoother gradient changes and sharper depth discontinuities in the prediction depth map. Mathemtatically, this would ne defined as:\n",
    "\n",
    "$$\\mathcal{L}_{MSG} = \\dfrac{1}{N} \\sum_{k=1}^K \\sum_{i=1}^N \\left| \\nabla_x^k d_i - \\nabla_y^k \\bar{d}_i^* \\right| + \\left| \\nabla_y^k d_i - \\nabla_y^k \\bar{d}_i^* \\right|$$\n",
    "\n",
    "### Overall Loss\n",
    "\n",
    "They defined the overall loss function is as follows:\n",
    "\n",
    "$$\\mathcal{L} = \\mathcal{L}_{PWN} + \\mathcal{L}_{ILNR} + 0.5\\mathcal{L}_{MSG}$$"
   ]
  },
  {
   "cell_type": "markdown",
   "id": "24a2f63a",
   "metadata": {},
   "source": [
    "## Notes\n",
    "\n",
    "<ul>\n",
    "    <li> Note that the DPM architecture is borrowed from Xian et al.'s work as the authors Yin et al. followed their model and is not one of their novel contributions. Due to time constraints, we reuse Xian's <a href=\"https://github.com/KexianHust/Structure-Guided-Ranking-Loss/blob/master/models/DepthNet.py\">DepthNet model</a>, but had we had more time, we can read through Xian et al.'s paper and implement it from scratch. </li>\n",
    "    <li> What is the main novelty in the DPM though is the ILNR and PWN losses and this was coded from scratch. </li>\n",
    "    <li> ... </li>\n",
    "</ul>"
   ]
  }
 ],
 "metadata": {
  "kernelspec": {
   "display_name": "Python 3",
   "language": "python",
   "name": "python3"
  },
  "language_info": {
   "codemirror_mode": {
    "name": "ipython",
    "version": 3
   },
   "file_extension": ".py",
   "mimetype": "text/x-python",
   "name": "python",
   "nbconvert_exporter": "python",
   "pygments_lexer": "ipython3",
   "version": "3.9.6"
  }
 },
 "nbformat": 4,
 "nbformat_minor": 5
}
